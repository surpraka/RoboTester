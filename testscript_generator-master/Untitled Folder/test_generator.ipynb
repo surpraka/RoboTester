{
 "cells": [
  {
   "cell_type": "code",
   "execution_count": null,
   "metadata": {},
   "outputs": [],
   "source": [
    "from get import Get\n",
    "from button import Button\n",
    "from textfield import Textfield\n",
    "from dropdown import Dropdown\n",
    "import model\n",
    "from selenium import webdriver"
   ]
  },
  {
   "cell_type": "code",
   "execution_count": null,
   "metadata": {},
   "outputs": [],
   "source": [
    "sample = [\"open 'www.mfs.com'\",\n",
    "            \"click on 'Menu'\",\n",
    "            \"click on 'Products & Strategies'\", \n",
    "            \"click on 'Mutual Funds'\", \n",
    "            \"Select 'Massachusetts Investors Trust' from 'Select a Fund' dropdownlist\"\n",
    "         ]\n",
    "sample1 = [\"opem 'www.mfs.com'\", \n",
    "           \"click on 'Search'\",\n",
    "           \"enter text 'Mutual Fund' in the 'Search' box\"\n",
    "          ]\n",
    "sample2 = [\"open 'www.mfs.com'\",\n",
    "           \"click on 'left-container'\", \n",
    "           \"select 'Australia' from 'Change your location' dropdown list'\"\n",
    "          ]\n",
    "sample3 = [\"open 'www.mfs.com'\",\n",
    "          \"click on 'Register'\",\n",
    "          \"click on 'Investment Professional'\",\n",
    "          \"click on 'UNITED STATES'\",\n",
    "          \"click on 'Financial Advisor'\",\n",
    "          \"click on 'I Agree'\",\n",
    "          \"enter 'password' in 'Password'\"\n",
    "          ]"
   ]
  },
  {
   "cell_type": "code",
   "execution_count": null,
   "metadata": {},
   "outputs": [],
   "source": [
    "driver = webdriver.Chrome()"
   ]
  },
  {
   "cell_type": "code",
   "execution_count": 1,
   "metadata": {},
   "outputs": [
    {
     "ename": "ModuleNotFoundError",
     "evalue": "No module named 'get'",
     "output_type": "error",
     "traceback": [
      "\u001b[1;31m---------------------------------------------------------------------------\u001b[0m",
      "\u001b[1;31mModuleNotFoundError\u001b[0m                       Traceback (most recent call last)",
      "\u001b[1;32m<ipython-input-1-66800f085167>\u001b[0m in \u001b[0;36m<module>\u001b[1;34m\u001b[0m\n\u001b[1;32m----> 1\u001b[1;33m \u001b[1;32mfrom\u001b[0m \u001b[0mget\u001b[0m \u001b[1;32mimport\u001b[0m \u001b[0mGet\u001b[0m\u001b[1;33m\u001b[0m\u001b[1;33m\u001b[0m\u001b[0m\n\u001b[0m\u001b[0;32m      2\u001b[0m \u001b[1;32mfrom\u001b[0m \u001b[0mbutton\u001b[0m \u001b[1;32mimport\u001b[0m \u001b[0mButton\u001b[0m\u001b[1;33m\u001b[0m\u001b[1;33m\u001b[0m\u001b[0m\n\u001b[0;32m      3\u001b[0m \u001b[1;32mfrom\u001b[0m \u001b[0mtextfield\u001b[0m \u001b[1;32mimport\u001b[0m \u001b[0mTextfield\u001b[0m\u001b[1;33m\u001b[0m\u001b[1;33m\u001b[0m\u001b[0m\n\u001b[0;32m      4\u001b[0m \u001b[1;32mfrom\u001b[0m \u001b[0mdropdown\u001b[0m \u001b[1;32mimport\u001b[0m \u001b[0mDropdown\u001b[0m\u001b[1;33m\u001b[0m\u001b[1;33m\u001b[0m\u001b[0m\n\u001b[0;32m      5\u001b[0m \u001b[1;32mimport\u001b[0m \u001b[0mmodel\u001b[0m\u001b[1;33m\u001b[0m\u001b[1;33m\u001b[0m\u001b[0m\n",
      "\u001b[1;31mModuleNotFoundError\u001b[0m: No module named 'get'"
     ]
    }
   ],
   "source": [
    "for sen in sample:\n",
    "    \n",
    "    sample1 = [sen]\n",
    "    sample1 = vectorizer.transform(sample1).toarray()\n",
    "    print(classifier.predict(sample1))\n",
    "    \n",
    "    if(classifier.predict(sample1) ==0):\n",
    "        print(\"button\")\n",
    "        button = Button()\n",
    "        button.action(str(sen),driver) \n",
    "        \n",
    "    if(classifier.predict(sample1) ==3):\n",
    "        print(\"dropdown\")\n",
    "        dropdown = Dropdown()\n",
    "        dropdown.action(str(sen),driver)\n",
    "        \n",
    "    if(classifier.predict(sample1) ==1):\n",
    "        print(\"get\")\n",
    "        get = Get()\n",
    "        get.browse(str(sen),driver)\n",
    "        \n",
    "    if(classifier.predict(sample1) ==2):\n",
    "        \n",
    "        print(\"textfield\")\n",
    "        textfield = Textfield()\n",
    "        textfield.action(str(sen),driver)"
   ]
  },
  {
   "cell_type": "code",
   "execution_count": null,
   "metadata": {},
   "outputs": [],
   "source": []
  }
 ],
 "metadata": {
  "kernelspec": {
   "display_name": "Python 3",
   "language": "python",
   "name": "python3"
  },
  "language_info": {
   "codemirror_mode": {
    "name": "ipython",
    "version": 3
   },
   "file_extension": ".py",
   "mimetype": "text/x-python",
   "name": "python",
   "nbconvert_exporter": "python",
   "pygments_lexer": "ipython3",
   "version": "3.7.3"
  }
 },
 "nbformat": 4,
 "nbformat_minor": 2
}
