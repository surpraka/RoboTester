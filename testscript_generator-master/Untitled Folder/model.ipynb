{
 "cells": [
  {
   "cell_type": "code",
   "execution_count": null,
   "metadata": {},
   "outputs": [],
   "source": [
    "#import numpy as np\n",
    "import re\n",
    "import pickle\n",
    "from nltk.corpus import stopwords\n",
    "from sklearn.datasets import load_files\n",
    "\n",
    "from sklearn.feature_extraction.text import TfidfVectorizer\n",
    "from sklearn.model_selection import train_test_split\n",
    "from sklearn.linear_model import LogisticRegression\n",
    "#from sklearn.metrics import accuracy_score, SCORERS, roc_auc_score, f1_score"
   ]
  },
  {
   "cell_type": "code",
   "execution_count": null,
   "metadata": {},
   "outputs": [],
   "source": [
    "reviews = load_files('Functionalties')\n",
    "\n",
    "x,y = reviews.data , reviews.target"
   ]
  },
  {
   "cell_type": "code",
   "execution_count": null,
   "metadata": {},
   "outputs": [],
   "source": [
    "with open('x.pickle','wb') as f:\n",
    "    pickle.dump(x,f)\n",
    "    \n",
    "with open('y.pickle','wb') as f:\n",
    "    pickle.dump(y,f)\n",
    "    \n",
    "corpus = []\n",
    "for i in range(0, len(x)):\n",
    "    review = re.sub(r'\\W',' ',str(x[i]))\n",
    "    review = review.lower()\n",
    "    review = re.sub(r'\\s+[a-z]\\s+',' ',review)\n",
    "    review = re.sub(r'^[a-z]\\s+','', review)\n",
    "    review = re.sub(r'\\s+', ' ', review)\n",
    "  \n",
    "    corpus.append(review)"
   ]
  },
  {
   "cell_type": "code",
   "execution_count": null,
   "metadata": {},
   "outputs": [],
   "source": [
    "vectorizer = TfidfVectorizer(max_features=100, min_df=3,max_df=0.8,stop_words=stopwords.words('english'))\n",
    "\n",
    "X_train, X_test, Y_train, Y_test = train_test_split(corpus, y, test_size=0.3, random_state=42)\n",
    "\n",
    "X_train = vectorizer.fit_transform(X_train).toarray()\n",
    "X_test = vectorizer.transform(X_test).toarray()\n",
    "\n",
    "classifier = LogisticRegression(random_state=42, solver='newton-cg', max_iter=1000, multi_class='multinomial', n_jobs=-1)\n",
    "classifier.fit(X_train, Y_train)"
   ]
  },
  {
   "cell_type": "code",
   "execution_count": null,
   "metadata": {},
   "outputs": [],
   "source": [
    "\"\"\"print(\"Solver = 'newton-cg'\")\n",
    "print(\"Accuracy : \", accuracy_score(Y_test, classifier.predict(X_test)))\n",
    "print(\"F1 Score : \", f1_score(Y_test, classifier.predict(X_test),average='macro'))\n",
    "print(\"AUC : \", roc_auc_score(Y_test,  classifier.predict(X_test)))\n",
    "print()\n",
    "\n",
    "classifier = LogisticRegression(random_state=42, solver='lbfgs', max_iter=1000, multi_class='multinomial', n_jobs=-1)\n",
    "classifier.fit(X_train, Y_train)\n",
    "\n",
    "print(\"Solver = 'lbfgs'\")\n",
    "print(\"Accuracy : \", accuracy_score(Y_test, classifier.predict(X_test)))\n",
    "print(\"F1 Score : \", f1_score(Y_test,classifier.predict(X_test),average='macro'))\n",
    "print(\"AUC : \", roc_auc_score(Y_test,  classifier.predict(X_test),average='macro'))\n",
    "print()\n",
    "\n",
    "classifier = LogisticRegression(random_state=42, solver='sag', max_iter=1000, multi_class='multinomial', n_jobs=-1)\n",
    "classifier.fit(X_train, Y_train)\n",
    "\n",
    "print(\"Solver = 'sag'\")\n",
    "print(\"Accuracy : \", accuracy_score(Y_test, classifier.predict(X_test)))\n",
    "print(\"F1 Score : \", f1_score(Y_test, classifier.predict(X_test),average='macro'))\n",
    "print(\"AUC : \", roc_auc_score(Y_test,  classifier.predict(X_test),average='macro'))\n",
    "print()\n",
    "\n",
    "classifier = LogisticRegression(random_state=42, solver='saga', max_iter=1000, multi_class='multinomial', n_jobs=-1)\n",
    "classifier.fit(X_train, Y_train)\n",
    "\n",
    "print(\"Solver = 'saga'\")\n",
    "print(\"Accuracy : \", accuracy_score(Y_test, classifier.predict(X_test)))\n",
    "print(\"F1 Score : \", f1_score(Y_test, classifier.predict(X_test),average='macro'))\n",
    "print(\"AUC : \", roc_auc_score(Y_test,  classifier.predict(X_test),average='macro'))\n",
    "print()\"\"\""
   ]
  }
 ],
 "metadata": {
  "kernelspec": {
   "display_name": "Python 3",
   "language": "python",
   "name": "python3"
  },
  "language_info": {
   "codemirror_mode": {
    "name": "ipython",
    "version": 3
   },
   "file_extension": ".py",
   "mimetype": "text/x-python",
   "name": "python",
   "nbconvert_exporter": "python",
   "pygments_lexer": "ipython3",
   "version": "3.7.3"
  }
 },
 "nbformat": 4,
 "nbformat_minor": 2
}
